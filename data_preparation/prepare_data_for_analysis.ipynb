{
 "cells": [
  {
   "cell_type": "markdown",
   "source": [
    "## Notebook purpose\n",
    "This notebook is used to prepare the data that will later be used in our analysis of the network in R."
   ],
   "metadata": {
    "collapsed": false
   },
   "id": "8fda40bf6b852890"
  },
  {
   "cell_type": "code",
   "execution_count": 244,
   "outputs": [],
   "source": [
    "import pandas as pd\n",
    "import numpy as np\n",
    "import os\n",
    "from pathlib import Path\n",
    "import seaborn as sns"
   ],
   "metadata": {
    "collapsed": false,
    "ExecuteTime": {
     "end_time": "2023-11-28T19:21:16.897440Z",
     "start_time": "2023-11-28T19:21:16.568283Z"
    }
   },
   "id": "a525d81b7fb13725"
  },
  {
   "cell_type": "code",
   "execution_count": 228,
   "outputs": [],
   "source": [
    "edges_filename = 'edge_df.csv'\n",
    "edges_path = os.path.join('..', 'test_data', 'scraped-15.28 26-10-2023', edges_filename)\n",
    "\n",
    "vertex_filename = 'vertex_df.csv'\n",
    "vertex_path = os.path.join('..', 'test_data', 'scraped-15.28 26-10-2023', vertex_filename)\n",
    "\n",
    "sentiment_filename = 'author_sentiments.csv'\n",
    "sentiment_path = os.path.join('..', 'sentiment_analysis', sentiment_filename)\n",
    "\n",
    "edge_data = pd.read_csv(edges_path)\n",
    "vertex_data = pd.read_csv(vertex_path)\n",
    "sentiment_data = pd.read_csv(sentiment_path)"
   ],
   "metadata": {
    "collapsed": false,
    "ExecuteTime": {
     "end_time": "2023-11-28T19:00:48.284034Z",
     "start_time": "2023-11-28T19:00:48.225433Z"
    }
   },
   "id": "7d7dfccb1d7f9edf"
  },
  {
   "cell_type": "markdown",
   "source": [
    "### Prepare vertex data"
   ],
   "metadata": {
    "collapsed": false,
    "ExecuteTime": {
     "end_time": "2023-11-28T19:05:04.049805Z",
     "start_time": "2023-11-28T19:05:03.992313Z"
    }
   },
   "id": "951e15a8ddcbad61"
  },
  {
   "cell_type": "code",
   "execution_count": 234,
   "outputs": [
    {
     "data": {
      "text/plain": "(1422, 7)"
     },
     "execution_count": 234,
     "metadata": {},
     "output_type": "execute_result"
    }
   ],
   "source": [
    "vertex_data.head()"
   ],
   "metadata": {
    "collapsed": false,
    "ExecuteTime": {
     "end_time": "2023-11-28T19:01:55.527789Z",
     "start_time": "2023-11-28T19:01:55.514087Z"
    }
   },
   "id": "5dd876c730fe790"
  },
  {
   "cell_type": "code",
   "execution_count": 239,
   "outputs": [
    {
     "name": "stderr",
     "output_type": "stream",
     "text": [
      "/var/folders/y7/_zszvpn176l12y354k0l6t6c0000gn/T/ipykernel_60100/786904754.py:5: SettingWithCopyWarning: \n",
      "A value is trying to be set on a copy of a slice from a DataFrame.\n",
      "Try using .loc[row_indexer,col_indexer] = value instead\n",
      "\n",
      "See the caveats in the documentation: https://pandas.pydata.org/pandas-docs/stable/user_guide/indexing.html#returning-a-view-versus-a-copy\n",
      "  vertex_network_data['comment_count'] = vertex_network_data['author_id'].apply(lambda x: comment_count.loc[x])\n",
      "/var/folders/y7/_zszvpn176l12y354k0l6t6c0000gn/T/ipykernel_60100/786904754.py:9: SettingWithCopyWarning: \n",
      "A value is trying to be set on a copy of a slice from a DataFrame.\n",
      "Try using .loc[row_indexer,col_indexer] = value instead\n",
      "\n",
      "See the caveats in the documentation: https://pandas.pydata.org/pandas-docs/stable/user_guide/indexing.html#returning-a-view-versus-a-copy\n",
      "  comments['number_of_words'] = comments['text'].apply(lambda x: len(x.split()))\n",
      "/var/folders/y7/_zszvpn176l12y354k0l6t6c0000gn/T/ipykernel_60100/786904754.py:15: SettingWithCopyWarning: \n",
      "A value is trying to be set on a copy of a slice from a DataFrame.\n",
      "Try using .loc[row_indexer,col_indexer] = value instead\n",
      "\n",
      "See the caveats in the documentation: https://pandas.pydata.org/pandas-docs/stable/user_guide/indexing.html#returning-a-view-versus-a-copy\n",
      "  vertex_network_data['average_length_comments'] = (pd.Series(comment_stats_per_user.index)\n"
     ]
    }
   ],
   "source": [
    "vertex_data = vertex_data[['author_id', 'member_since', 'subscriber_count', 'view_count', 'video_count']]"
   ],
   "metadata": {
    "collapsed": false,
    "ExecuteTime": {
     "end_time": "2023-11-28T19:05:34.444918Z",
     "start_time": "2023-11-28T19:05:34.254145Z"
    }
   },
   "id": "e97d98074d413a82"
  },
  {
   "cell_type": "code",
   "execution_count": 240,
   "outputs": [
    {
     "data": {
      "text/plain": "        id  subscriber_count  view_count  video_count  comment_count  \\\n0        0                 0           0            0              1   \n1        1               514      143822           22              2   \n2        2                83        6113           35              1   \n3        3                 0           0            0              4   \n4        4                 0           0            0              1   \n...    ...               ...         ...          ...            ...   \n1417  1417                 0           0            0              1   \n1418  1418                 3           0            0              2   \n1419  1419                 2           0            0              2   \n1420  1420                 0           0            0              1   \n1421  1421                 0           0            0              2   \n\n      average_length_comments     sentiment comment_length_category  \\\n0                          31  no sentiment                    long   \n1                          73  no sentiment                    long   \n2                           8  no sentiment                   short   \n3                          19      negative                  medium   \n4                          14  no sentiment                  medium   \n...                       ...           ...                     ...   \n1417                        4      negative                   short   \n1418                        9      negative                  medium   \n1419                       26  no sentiment                  medium   \n1420                        3      negative                   short   \n1421                       24      negative                  medium   \n\n      total_likes  \n0               2  \n1               2  \n2               0  \n3               0  \n4               1  \n...           ...  \n1417            1  \n1418           44  \n1419            1  \n1420            4  \n1421           15  \n\n[1422 rows x 9 columns]",
      "text/html": "<div>\n<style scoped>\n    .dataframe tbody tr th:only-of-type {\n        vertical-align: middle;\n    }\n\n    .dataframe tbody tr th {\n        vertical-align: top;\n    }\n\n    .dataframe thead th {\n        text-align: right;\n    }\n</style>\n<table border=\"1\" class=\"dataframe\">\n  <thead>\n    <tr style=\"text-align: right;\">\n      <th></th>\n      <th>id</th>\n      <th>subscriber_count</th>\n      <th>view_count</th>\n      <th>video_count</th>\n      <th>comment_count</th>\n      <th>average_length_comments</th>\n      <th>sentiment</th>\n      <th>comment_length_category</th>\n      <th>total_likes</th>\n    </tr>\n  </thead>\n  <tbody>\n    <tr>\n      <th>0</th>\n      <td>0</td>\n      <td>0</td>\n      <td>0</td>\n      <td>0</td>\n      <td>1</td>\n      <td>31</td>\n      <td>no sentiment</td>\n      <td>long</td>\n      <td>2</td>\n    </tr>\n    <tr>\n      <th>1</th>\n      <td>1</td>\n      <td>514</td>\n      <td>143822</td>\n      <td>22</td>\n      <td>2</td>\n      <td>73</td>\n      <td>no sentiment</td>\n      <td>long</td>\n      <td>2</td>\n    </tr>\n    <tr>\n      <th>2</th>\n      <td>2</td>\n      <td>83</td>\n      <td>6113</td>\n      <td>35</td>\n      <td>1</td>\n      <td>8</td>\n      <td>no sentiment</td>\n      <td>short</td>\n      <td>0</td>\n    </tr>\n    <tr>\n      <th>3</th>\n      <td>3</td>\n      <td>0</td>\n      <td>0</td>\n      <td>0</td>\n      <td>4</td>\n      <td>19</td>\n      <td>negative</td>\n      <td>medium</td>\n      <td>0</td>\n    </tr>\n    <tr>\n      <th>4</th>\n      <td>4</td>\n      <td>0</td>\n      <td>0</td>\n      <td>0</td>\n      <td>1</td>\n      <td>14</td>\n      <td>no sentiment</td>\n      <td>medium</td>\n      <td>1</td>\n    </tr>\n    <tr>\n      <th>...</th>\n      <td>...</td>\n      <td>...</td>\n      <td>...</td>\n      <td>...</td>\n      <td>...</td>\n      <td>...</td>\n      <td>...</td>\n      <td>...</td>\n      <td>...</td>\n    </tr>\n    <tr>\n      <th>1417</th>\n      <td>1417</td>\n      <td>0</td>\n      <td>0</td>\n      <td>0</td>\n      <td>1</td>\n      <td>4</td>\n      <td>negative</td>\n      <td>short</td>\n      <td>1</td>\n    </tr>\n    <tr>\n      <th>1418</th>\n      <td>1418</td>\n      <td>3</td>\n      <td>0</td>\n      <td>0</td>\n      <td>2</td>\n      <td>9</td>\n      <td>negative</td>\n      <td>medium</td>\n      <td>44</td>\n    </tr>\n    <tr>\n      <th>1419</th>\n      <td>1419</td>\n      <td>2</td>\n      <td>0</td>\n      <td>0</td>\n      <td>2</td>\n      <td>26</td>\n      <td>no sentiment</td>\n      <td>medium</td>\n      <td>1</td>\n    </tr>\n    <tr>\n      <th>1420</th>\n      <td>1420</td>\n      <td>0</td>\n      <td>0</td>\n      <td>0</td>\n      <td>1</td>\n      <td>3</td>\n      <td>negative</td>\n      <td>short</td>\n      <td>4</td>\n    </tr>\n    <tr>\n      <th>1421</th>\n      <td>1421</td>\n      <td>0</td>\n      <td>0</td>\n      <td>0</td>\n      <td>2</td>\n      <td>24</td>\n      <td>negative</td>\n      <td>medium</td>\n      <td>15</td>\n    </tr>\n  </tbody>\n</table>\n<p>1422 rows × 9 columns</p>\n</div>"
     },
     "execution_count": 240,
     "metadata": {},
     "output_type": "execute_result"
    }
   ],
   "source": [
    "comment_count = edge_data['author_id'].value_counts()\n",
    "vertex_data['comment_count'] = vertex_data['author_id'].apply(lambda x: comment_count.loc[x])"
   ],
   "metadata": {
    "collapsed": false,
    "ExecuteTime": {
     "end_time": "2023-11-28T19:05:38.378467Z",
     "start_time": "2023-11-28T19:05:38.366963Z"
    }
   },
   "id": "bee938726823943a"
  },
  {
   "cell_type": "code",
   "execution_count": 218,
   "outputs": [],
   "source": [
    "comments = edge_data[['author_id', 'text', 'video_id']]\n",
    "comments['number_of_words'] = comments['text'].apply(lambda x: len(x.split()))\n",
    "\n",
    "comment_stats_per_user = comments[['author_id', 'number_of_words']].groupby(['author_id']).agg(['min','max','sum', 'mean', 'std'])\n",
    "comment_stats_per_user.columns = ['_'.join(col) for col in comment_stats_per_user.columns.values]\n",
    "\n",
    "comments['max_comment_length'] = "
   ],
   "metadata": {
    "collapsed": false,
    "ExecuteTime": {
     "end_time": "2023-11-28T18:22:43.751789Z",
     "start_time": "2023-11-28T18:22:43.691947Z"
    }
   },
   "id": "13270c168e4a19f4"
  },
  {
   "cell_type": "code",
   "execution_count": 241,
   "outputs": [],
   "source": [
    "comments['number_of_words'].describe()"
   ],
   "metadata": {
    "collapsed": false,
    "ExecuteTime": {
     "end_time": "2023-11-28T19:07:01.631951Z",
     "start_time": "2023-11-28T19:07:01.618042Z"
    }
   },
   "id": "c2bbef5d32a0c9fc"
  },
  {
   "cell_type": "code",
   "execution_count": 242,
   "outputs": [
    {
     "data": {
      "text/plain": "      source  target  edge_weight\n79        98      51            1\n80        48      51            1\n91        58      52            1\n92        51      52            1\n97        70      52            2\n...      ...     ...          ...\n3544     648    1418            1\n3545     446    1418            1\n3546     446     607            1\n3547    1418     446            1\n3552     446     171            1\n\n[553 rows x 3 columns]",
      "text/html": "<div>\n<style scoped>\n    .dataframe tbody tr th:only-of-type {\n        vertical-align: middle;\n    }\n\n    .dataframe tbody tr th {\n        vertical-align: top;\n    }\n\n    .dataframe thead th {\n        text-align: right;\n    }\n</style>\n<table border=\"1\" class=\"dataframe\">\n  <thead>\n    <tr style=\"text-align: right;\">\n      <th></th>\n      <th>source</th>\n      <th>target</th>\n      <th>edge_weight</th>\n    </tr>\n  </thead>\n  <tbody>\n    <tr>\n      <th>79</th>\n      <td>98</td>\n      <td>51</td>\n      <td>1</td>\n    </tr>\n    <tr>\n      <th>80</th>\n      <td>48</td>\n      <td>51</td>\n      <td>1</td>\n    </tr>\n    <tr>\n      <th>91</th>\n      <td>58</td>\n      <td>52</td>\n      <td>1</td>\n    </tr>\n    <tr>\n      <th>92</th>\n      <td>51</td>\n      <td>52</td>\n      <td>1</td>\n    </tr>\n    <tr>\n      <th>97</th>\n      <td>70</td>\n      <td>52</td>\n      <td>2</td>\n    </tr>\n    <tr>\n      <th>...</th>\n      <td>...</td>\n      <td>...</td>\n      <td>...</td>\n    </tr>\n    <tr>\n      <th>3544</th>\n      <td>648</td>\n      <td>1418</td>\n      <td>1</td>\n    </tr>\n    <tr>\n      <th>3545</th>\n      <td>446</td>\n      <td>1418</td>\n      <td>1</td>\n    </tr>\n    <tr>\n      <th>3546</th>\n      <td>446</td>\n      <td>607</td>\n      <td>1</td>\n    </tr>\n    <tr>\n      <th>3547</th>\n      <td>1418</td>\n      <td>446</td>\n      <td>1</td>\n    </tr>\n    <tr>\n      <th>3552</th>\n      <td>446</td>\n      <td>171</td>\n      <td>1</td>\n    </tr>\n  </tbody>\n</table>\n<p>553 rows × 3 columns</p>\n</div>"
     },
     "execution_count": 242,
     "metadata": {},
     "output_type": "execute_result"
    }
   ],
   "source": [
    "sns.boxplot(comments, x='number_of_words', orient='v', hue='video_id')"
   ],
   "metadata": {
    "collapsed": false,
    "ExecuteTime": {
     "end_time": "2023-11-28T19:07:02.740275Z",
     "start_time": "2023-11-28T19:07:02.737046Z"
    }
   },
   "id": "c71393482a350aaf"
  },
  {
   "cell_type": "code",
   "execution_count": 243,
   "outputs": [],
   "source": [
    "comments['number_of_characters'].describe()"
   ],
   "metadata": {
    "collapsed": false,
    "ExecuteTime": {
     "end_time": "2023-11-28T19:07:15.337218Z",
     "start_time": "2023-11-28T19:07:15.296742Z"
    }
   },
   "id": "b9122e728848b8b1"
  },
  {
   "cell_type": "code",
   "execution_count": 251,
   "outputs": [],
   "source": [
    "sns.boxplot(comments['number_of_characters'], orient='h')"
   ],
   "metadata": {
    "collapsed": false,
    "ExecuteTime": {
     "end_time": "2023-11-28T19:26:57.638369Z",
     "start_time": "2023-11-28T19:26:57.622719Z"
    }
   },
   "id": "753bc9cf71a2806d"
  },
  {
   "cell_type": "code",
   "execution_count": 253,
   "outputs": [
    {
     "data": {
      "text/plain": "'IGRAPH D--- 324 553 -- \\n+ attr: average_length_comments (v), comment_count (v), comment_length_category (v), id (v), sentiment (v), subscriber_count (v), total_likes (v), video_count (v), view_count (v), edge_weight (e)'"
     },
     "execution_count": 253,
     "metadata": {},
     "output_type": "execute_result"
    }
   ],
   "source": [
    "# Number of words for each user\n",
    "number_of_words = comments[['author_id', 'number_of_words']].groupby(['author_id']).agg(['min','max','sum', 'mean', 'std'])\n",
    "number_of_words.columns = ['_'.join(col) for col in number_of_words.columns.values]\n",
    "number_of_words['range'] = number_of_words['number_of_words_max'] - number_of_words['number_of_words_min']\n",
    "number_of_words"
   ],
   "metadata": {
    "collapsed": false,
    "ExecuteTime": {
     "end_time": "2023-11-28T19:27:57.764644Z",
     "start_time": "2023-11-28T19:27:57.677706Z"
    }
   },
   "id": "605a131a058ba9a1"
  },
  {
   "cell_type": "code",
   "execution_count": 102,
   "outputs": [
    {
     "data": {
      "text/plain": "                        sender                  receiver  edge_weight\n79    UCC35EnAeuy4lLGTjIQHuLTQ  UCOtHqJeZ2OG0FrJRUOwaieg            1\n80    UCEngHxSN_kcZYoavVA4i7Ow  UCOtHqJeZ2OG0FrJRUOwaieg            1\n91    UCk7p83NSuNlDbT3eArf67Yw  UCEkx7zzpb9N6DAnz6v7Tz7A            1\n92    UCOtHqJeZ2OG0FrJRUOwaieg  UCEkx7zzpb9N6DAnz6v7Tz7A            1\n97    UCFPb9eToj2c4JlktoX6Ki5A  UCEkx7zzpb9N6DAnz6v7Tz7A            2\n...                        ...                       ...          ...\n3544  UC-Zxxz-qjSnyQa24FG7AoYw  UC_seOXHxPhpYfwgRT8cGmYw            1\n3545  UCJCXva9PVxXoibj9ZEFp_yA  UC_seOXHxPhpYfwgRT8cGmYw            1\n3546  UCJCXva9PVxXoibj9ZEFp_yA  UCFatvcX_zapmWQ3nvOUbQHA            1\n3547  UC_seOXHxPhpYfwgRT8cGmYw  UCJCXva9PVxXoibj9ZEFp_yA            1\n3552  UCJCXva9PVxXoibj9ZEFp_yA  UCKQM7sGy0zipHXgeFQkuUTg            1\n\n[553 rows x 3 columns]",
      "text/html": "<div>\n<style scoped>\n    .dataframe tbody tr th:only-of-type {\n        vertical-align: middle;\n    }\n\n    .dataframe tbody tr th {\n        vertical-align: top;\n    }\n\n    .dataframe thead th {\n        text-align: right;\n    }\n</style>\n<table border=\"1\" class=\"dataframe\">\n  <thead>\n    <tr style=\"text-align: right;\">\n      <th></th>\n      <th>sender</th>\n      <th>receiver</th>\n      <th>edge_weight</th>\n    </tr>\n  </thead>\n  <tbody>\n    <tr>\n      <th>79</th>\n      <td>UCC35EnAeuy4lLGTjIQHuLTQ</td>\n      <td>UCOtHqJeZ2OG0FrJRUOwaieg</td>\n      <td>1</td>\n    </tr>\n    <tr>\n      <th>80</th>\n      <td>UCEngHxSN_kcZYoavVA4i7Ow</td>\n      <td>UCOtHqJeZ2OG0FrJRUOwaieg</td>\n      <td>1</td>\n    </tr>\n    <tr>\n      <th>91</th>\n      <td>UCk7p83NSuNlDbT3eArf67Yw</td>\n      <td>UCEkx7zzpb9N6DAnz6v7Tz7A</td>\n      <td>1</td>\n    </tr>\n    <tr>\n      <th>92</th>\n      <td>UCOtHqJeZ2OG0FrJRUOwaieg</td>\n      <td>UCEkx7zzpb9N6DAnz6v7Tz7A</td>\n      <td>1</td>\n    </tr>\n    <tr>\n      <th>97</th>\n      <td>UCFPb9eToj2c4JlktoX6Ki5A</td>\n      <td>UCEkx7zzpb9N6DAnz6v7Tz7A</td>\n      <td>2</td>\n    </tr>\n    <tr>\n      <th>...</th>\n      <td>...</td>\n      <td>...</td>\n      <td>...</td>\n    </tr>\n    <tr>\n      <th>3544</th>\n      <td>UC-Zxxz-qjSnyQa24FG7AoYw</td>\n      <td>UC_seOXHxPhpYfwgRT8cGmYw</td>\n      <td>1</td>\n    </tr>\n    <tr>\n      <th>3545</th>\n      <td>UCJCXva9PVxXoibj9ZEFp_yA</td>\n      <td>UC_seOXHxPhpYfwgRT8cGmYw</td>\n      <td>1</td>\n    </tr>\n    <tr>\n      <th>3546</th>\n      <td>UCJCXva9PVxXoibj9ZEFp_yA</td>\n      <td>UCFatvcX_zapmWQ3nvOUbQHA</td>\n      <td>1</td>\n    </tr>\n    <tr>\n      <th>3547</th>\n      <td>UC_seOXHxPhpYfwgRT8cGmYw</td>\n      <td>UCJCXva9PVxXoibj9ZEFp_yA</td>\n      <td>1</td>\n    </tr>\n    <tr>\n      <th>3552</th>\n      <td>UCJCXva9PVxXoibj9ZEFp_yA</td>\n      <td>UCKQM7sGy0zipHXgeFQkuUTg</td>\n      <td>1</td>\n    </tr>\n  </tbody>\n</table>\n<p>553 rows × 3 columns</p>\n</div>"
     },
     "execution_count": 102,
     "metadata": {},
     "output_type": "execute_result"
    }
   ],
   "source": [],
   "metadata": {
    "collapsed": false,
    "ExecuteTime": {
     "end_time": "2023-11-28T16:42:06.881759Z",
     "start_time": "2023-11-28T16:42:06.812132Z"
    }
   },
   "id": "46ec234fea01294"
  },
  {
   "cell_type": "code",
   "execution_count": 103,
   "outputs": [
    {
     "data": {
      "text/plain": "<Axes: xlabel='edge_weight', ylabel='Count'>"
     },
     "execution_count": 103,
     "metadata": {},
     "output_type": "execute_result"
    },
    {
     "data": {
      "text/plain": "<Figure size 640x480 with 1 Axes>",
      "image/png": "[encoded data removed]"
     },
     "metadata": {},
     "output_type": "display_data"
    }
   ],
   "source": [
    "number_of_words['range'].describe()"
   ],
   "metadata": {
    "collapsed": false,
    "ExecuteTime": {
     "end_time": "2023-11-28T16:43:17.840585Z",
     "start_time": "2023-11-28T16:43:17.459152Z"
    }
   },
   "id": "b6392e9d957b95fd"
  },
  {
   "cell_type": "code",
   "execution_count": 104,
   "outputs": [
    {
     "data": {
      "text/plain": "count    553.000000\nmean       1.444846\nstd        1.972900\nmin        1.000000\n25%        1.000000\n50%        1.000000\n75%        1.000000\nmax       29.000000\nName: edge_weight, dtype: float64"
     },
     "execution_count": 104,
     "metadata": {},
     "output_type": "execute_result"
    }
   ],
   "source": [
    "sns.boxplot(number_of_words['number_of_words_mean'], orient='h')"
   ],
   "metadata": {
    "collapsed": false,
    "ExecuteTime": {
     "end_time": "2023-11-28T16:43:39.551893Z",
     "start_time": "2023-11-28T16:43:39.528454Z"
    }
   },
   "id": "f50bc644496a39a7"
  },
  {
   "cell_type": "code",
   "execution_count": 106,
   "outputs": [
    {
     "data": {
      "text/plain": "553"
     },
     "execution_count": 106,
     "metadata": {},
     "output_type": "execute_result"
    }
   ],
   "source": [
    "sns.boxplot(number_of_words['number_of_words_std'], orient='h')"
   ],
   "metadata": {
    "collapsed": false,
    "ExecuteTime": {
     "end_time": "2023-11-28T16:45:57.382966Z",
     "start_time": "2023-11-28T16:45:57.377546Z"
    }
   },
   "id": "854e45e7568cea8b"
  },
  {
   "cell_type": "code",
   "execution_count": 99,
   "outputs": [
    {
     "data": {
      "text/plain": "                        sender                  receiver  edge_weight\n0     UCIQCnEBCJ3lsMRv1ObUUiQg                       NaN            0\n1     UCOpY590f7hBsp2VTaMC0ssw                       NaN            0\n2     UC8_c_vHd4vcGLxvBmaRG96A                       NaN            0\n3     UCvxUmnDhwQ6m7JNnHdPTBuw                       NaN            0\n4     UC0nwTAHfYOVWuobiixgU5vA                       NaN            0\n...                        ...                       ...          ...\n3544  UC-Zxxz-qjSnyQa24FG7AoYw  UC_seOXHxPhpYfwgRT8cGmYw            1\n3545  UCJCXva9PVxXoibj9ZEFp_yA  UC_seOXHxPhpYfwgRT8cGmYw            1\n3546  UCJCXva9PVxXoibj9ZEFp_yA  UCFatvcX_zapmWQ3nvOUbQHA            1\n3547  UC_seOXHxPhpYfwgRT8cGmYw  UCJCXva9PVxXoibj9ZEFp_yA            1\n3552  UCJCXva9PVxXoibj9ZEFp_yA  UCKQM7sGy0zipHXgeFQkuUTg            1\n\n[1927 rows x 3 columns]",
      "text/html": "<div>\n<style scoped>\n    .dataframe tbody tr th:only-of-type {\n        vertical-align: middle;\n    }\n\n    .dataframe tbody tr th {\n        vertical-align: top;\n    }\n\n    .dataframe thead th {\n        text-align: right;\n    }\n</style>\n<table border=\"1\" class=\"dataframe\">\n  <thead>\n    <tr style=\"text-align: right;\">\n      <th></th>\n      <th>sender</th>\n      <th>receiver</th>\n      <th>edge_weight</th>\n    </tr>\n  </thead>\n  <tbody>\n    <tr>\n      <th>0</th>\n      <td>UCIQCnEBCJ3lsMRv1ObUUiQg</td>\n      <td>NaN</td>\n      <td>0</td>\n    </tr>\n    <tr>\n      <th>1</th>\n      <td>UCOpY590f7hBsp2VTaMC0ssw</td>\n      <td>NaN</td>\n      <td>0</td>\n    </tr>\n    <tr>\n      <th>2</th>\n      <td>UC8_c_vHd4vcGLxvBmaRG96A</td>\n      <td>NaN</td>\n      <td>0</td>\n    </tr>\n    <tr>\n      <th>3</th>\n      <td>UCvxUmnDhwQ6m7JNnHdPTBuw</td>\n      <td>NaN</td>\n      <td>0</td>\n    </tr>\n    <tr>\n      <th>4</th>\n      <td>UC0nwTAHfYOVWuobiixgU5vA</td>\n      <td>NaN</td>\n      <td>0</td>\n    </tr>\n    <tr>\n      <th>...</th>\n      <td>...</td>\n      <td>...</td>\n      <td>...</td>\n    </tr>\n    <tr>\n      <th>3544</th>\n      <td>UC-Zxxz-qjSnyQa24FG7AoYw</td>\n      <td>UC_seOXHxPhpYfwgRT8cGmYw</td>\n      <td>1</td>\n    </tr>\n    <tr>\n      <th>3545</th>\n      <td>UCJCXva9PVxXoibj9ZEFp_yA</td>\n      <td>UC_seOXHxPhpYfwgRT8cGmYw</td>\n      <td>1</td>\n    </tr>\n    <tr>\n      <th>3546</th>\n      <td>UCJCXva9PVxXoibj9ZEFp_yA</td>\n      <td>UCFatvcX_zapmWQ3nvOUbQHA</td>\n      <td>1</td>\n    </tr>\n    <tr>\n      <th>3547</th>\n      <td>UC_seOXHxPhpYfwgRT8cGmYw</td>\n      <td>UCJCXva9PVxXoibj9ZEFp_yA</td>\n      <td>1</td>\n    </tr>\n    <tr>\n      <th>3552</th>\n      <td>UCJCXva9PVxXoibj9ZEFp_yA</td>\n      <td>UCKQM7sGy0zipHXgeFQkuUTg</td>\n      <td>1</td>\n    </tr>\n  </tbody>\n</table>\n<p>1927 rows × 3 columns</p>\n</div>"
     },
     "execution_count": 99,
     "metadata": {},
     "output_type": "execute_result"
    }
   ],
   "source": [
    "sns.boxplot(number_of_words['number_of_words_'], orient='h')"
   ],
   "metadata": {
    "collapsed": false,
    "ExecuteTime": {
     "end_time": "2023-11-28T16:37:12.979643Z",
     "start_time": "2023-11-28T16:37:12.898828Z"
    }
   },
   "id": "c3b0e93d7dc30f5c"
  },
  {
   "cell_type": "code",
   "execution_count": 81,
   "outputs": [
    {
     "data": {
      "text/plain": "                          number_of_words_min  number_of_words_max  \\\nauthor_id                                                            \nUC-5bgCfB2-6P7IXYQVfkgQA                   25                   37   \nUC-5nRmjQKjUGxxcfzrNu01g                   73                   73   \nUC-6v21v6lHghRfplfKL8-Ig                    8                    8   \nUC-7oRFgGO4t4MgHdIPwIexw                    6                   32   \nUC-8FXYpVJ7RiMUAyEXlmo-A                   14                   14   \n...                                       ...                  ...   \nUCzd9srmcKCSGk5y_Dcuo6xw                    4                    4   \nUCzfKe--VK1RIKH4jaZGy99w                    9                    9   \nUCzgT7Zp9Ka4tgQfdAQaI5lQ                   26                   26   \nUCzgg_tgTJwUg7YhAXmDW87A                    2                    3   \nUCzkXXDb6pl24NoCjKlc90rA                   20                   27   \n\n                          number_of_words_sum  number_of_words_mean  \\\nauthor_id                                                             \nUC-5bgCfB2-6P7IXYQVfkgQA                   62             31.000000   \nUC-5nRmjQKjUGxxcfzrNu01g                  146             73.000000   \nUC-6v21v6lHghRfplfKL8-Ig                    8              8.000000   \nUC-7oRFgGO4t4MgHdIPwIexw                   97             19.400000   \nUC-8FXYpVJ7RiMUAyEXlmo-A                   14             14.000000   \n...                                       ...                   ...   \nUCzd9srmcKCSGk5y_Dcuo6xw                    4              4.000000   \nUCzfKe--VK1RIKH4jaZGy99w                    9              9.000000   \nUCzgT7Zp9Ka4tgQfdAQaI5lQ                   26             26.000000   \nUCzgg_tgTJwUg7YhAXmDW87A                    8              2.666667   \nUCzkXXDb6pl24NoCjKlc90rA                   72             24.000000   \n\n                          number_of_words_std  range  \nauthor_id                                             \nUC-5bgCfB2-6P7IXYQVfkgQA             8.485281     12  \nUC-5nRmjQKjUGxxcfzrNu01g             0.000000      0  \nUC-6v21v6lHghRfplfKL8-Ig                  NaN      0  \nUC-7oRFgGO4t4MgHdIPwIexw            11.480418     26  \nUC-8FXYpVJ7RiMUAyEXlmo-A                  NaN      0  \n...                                       ...    ...  \nUCzd9srmcKCSGk5y_Dcuo6xw                  NaN      0  \nUCzfKe--VK1RIKH4jaZGy99w                  NaN      0  \nUCzgT7Zp9Ka4tgQfdAQaI5lQ                  NaN      0  \nUCzgg_tgTJwUg7YhAXmDW87A             0.577350      1  \nUCzkXXDb6pl24NoCjKlc90rA             3.605551      7  \n\n[1422 rows x 6 columns]",
      "text/html": "<div>\n<style scoped>\n    .dataframe tbody tr th:only-of-type {\n        vertical-align: middle;\n    }\n\n    .dataframe tbody tr th {\n        vertical-align: top;\n    }\n\n    .dataframe thead th {\n        text-align: right;\n    }\n</style>\n<table border=\"1\" class=\"dataframe\">\n  <thead>\n    <tr style=\"text-align: right;\">\n      <th></th>\n      <th>number_of_words_min</th>\n      <th>number_of_words_max</th>\n      <th>number_of_words_sum</th>\n      <th>number_of_words_mean</th>\n      <th>number_of_words_std</th>\n      <th>range</th>\n    </tr>\n    <tr>\n      <th>author_id</th>\n      <th></th>\n      <th></th>\n      <th></th>\n      <th></th>\n      <th></th>\n      <th></th>\n    </tr>\n  </thead>\n  <tbody>\n    <tr>\n      <th>UC-5bgCfB2-6P7IXYQVfkgQA</th>\n      <td>25</td>\n      <td>37</td>\n      <td>62</td>\n      <td>31.000000</td>\n      <td>8.485281</td>\n      <td>12</td>\n    </tr>\n    <tr>\n      <th>UC-5nRmjQKjUGxxcfzrNu01g</th>\n      <td>73</td>\n      <td>73</td>\n      <td>146</td>\n      <td>73.000000</td>\n      <td>0.000000</td>\n      <td>0</td>\n    </tr>\n    <tr>\n      <th>UC-6v21v6lHghRfplfKL8-Ig</th>\n      <td>8</td>\n      <td>8</td>\n      <td>8</td>\n      <td>8.000000</td>\n      <td>NaN</td>\n      <td>0</td>\n    </tr>\n    <tr>\n      <th>UC-7oRFgGO4t4MgHdIPwIexw</th>\n      <td>6</td>\n      <td>32</td>\n      <td>97</td>\n      <td>19.400000</td>\n      <td>11.480418</td>\n      <td>26</td>\n    </tr>\n    <tr>\n      <th>UC-8FXYpVJ7RiMUAyEXlmo-A</th>\n      <td>14</td>\n      <td>14</td>\n      <td>14</td>\n      <td>14.000000</td>\n      <td>NaN</td>\n      <td>0</td>\n    </tr>\n    <tr>\n      <th>...</th>\n      <td>...</td>\n      <td>...</td>\n      <td>...</td>\n      <td>...</td>\n      <td>...</td>\n      <td>...</td>\n    </tr>\n    <tr>\n      <th>UCzd9srmcKCSGk5y_Dcuo6xw</th>\n      <td>4</td>\n      <td>4</td>\n      <td>4</td>\n      <td>4.000000</td>\n      <td>NaN</td>\n      <td>0</td>\n    </tr>\n    <tr>\n      <th>UCzfKe--VK1RIKH4jaZGy99w</th>\n      <td>9</td>\n      <td>9</td>\n      <td>9</td>\n      <td>9.000000</td>\n      <td>NaN</td>\n      <td>0</td>\n    </tr>\n    <tr>\n      <th>UCzgT7Zp9Ka4tgQfdAQaI5lQ</th>\n      <td>26</td>\n      <td>26</td>\n      <td>26</td>\n      <td>26.000000</td>\n      <td>NaN</td>\n      <td>0</td>\n    </tr>\n    <tr>\n      <th>UCzgg_tgTJwUg7YhAXmDW87A</th>\n      <td>2</td>\n      <td>3</td>\n      <td>8</td>\n      <td>2.666667</td>\n      <td>0.577350</td>\n      <td>1</td>\n    </tr>\n    <tr>\n      <th>UCzkXXDb6pl24NoCjKlc90rA</th>\n      <td>20</td>\n      <td>27</td>\n      <td>72</td>\n      <td>24.000000</td>\n      <td>3.605551</td>\n      <td>7</td>\n    </tr>\n  </tbody>\n</table>\n<p>1422 rows × 6 columns</p>\n</div>"
     },
     "execution_count": 81,
     "metadata": {},
     "output_type": "execute_result"
    }
   ],
   "source": [
    "number_of_words"
   ],
   "metadata": {
    "collapsed": false,
    "ExecuteTime": {
     "end_time": "2023-11-28T11:09:25.678080Z",
     "start_time": "2023-11-28T11:09:25.664555Z"
    }
   },
   "id": "60f84d3704017c75"
  },
  {
   "cell_type": "markdown",
   "source": [
    "### Prepare edges data"
   ],
   "metadata": {
    "collapsed": false
   },
   "id": "bc2d196cda94b2e9"
  },
  {
   "cell_type": "code",
   "execution_count": 9,
   "outputs": [],
   "source": [
    "edge_network_data = edge_data[['author_id', 'dest_id']].rename(columns={'author_id': 'sender', 'dest_id': 'receiver'})"
   ],
   "metadata": {
    "collapsed": false
   },
   "id": "76d35b90d6e30ef1"
  }
 ],
 "metadata": {
  "kernelspec": {
   "display_name": "Python 3",
   "language": "python",
   "name": "python3"
  },
  "language_info": {
   "codemirror_mode": {
    "name": "ipython",
    "version": 2
   },
   "file_extension": ".py",
   "mimetype": "text/x-python",
   "name": "python",
   "nbconvert_exporter": "python",
   "pygments_lexer": "ipython2",
   "version": "2.7.6"
  }
 },
 "nbformat": 4,
 "nbformat_minor": 5
}
